{
 "cells": [
  {
   "cell_type": "code",
   "execution_count": 3,
   "metadata": {},
   "outputs": [
    {
     "ename": "ModuleNotFoundError",
     "evalue": "No module named 'geonamescache'",
     "output_type": "error",
     "traceback": [
      "\u001b[0;31m---------------------------------------------------------------------------\u001b[0m",
      "\u001b[0;31mModuleNotFoundError\u001b[0m                       Traceback (most recent call last)",
      "Cell \u001b[0;32mIn[3], line 6\u001b[0m\n\u001b[1;32m      4\u001b[0m \u001b[39mfrom\u001b[39;00m \u001b[39mcollections\u001b[39;00m \u001b[39mimport\u001b[39;00m Counter\n\u001b[1;32m      5\u001b[0m \u001b[39mimport\u001b[39;00m \u001b[39men_core_web_sm\u001b[39;00m\n\u001b[0;32m----> 6\u001b[0m \u001b[39mimport\u001b[39;00m \u001b[39mgeonamescache\u001b[39;00m\n\u001b[1;32m      7\u001b[0m nlp \u001b[39m=\u001b[39m en_core_web_sm\u001b[39m.\u001b[39mload()\n\u001b[1;32m      8\u001b[0m \u001b[39mfrom\u001b[39;00m \u001b[39mgeopy\u001b[39;00m\u001b[39m.\u001b[39;00m\u001b[39mgeocoders\u001b[39;00m \u001b[39mimport\u001b[39;00m Nominatim\n",
      "\u001b[0;31mModuleNotFoundError\u001b[0m: No module named 'geonamescache'"
     ]
    }
   ],
   "source": [
    "import pandas as pd\n",
    "import os\n",
    "import spacy\n",
    "from collections import Counter\n",
    "import en_core_web_sm\n",
    "import geonamescache\n",
    "nlp = en_core_web_sm.load()\n",
    "from geopy.geocoders import Nominatim\n",
    "geolocator = Nominatim(user_agent=\"AidData\")"
   ]
  },
  {
   "cell_type": "code",
   "execution_count": 2,
   "metadata": {
    "scrolled": true
   },
   "outputs": [],
   "source": [
    "df = pd.read_csv(r'node.csv')\n",
    "NOI=\"Thailand\"\n",
    "NOI_CC=\"TH\""
   ]
  },
  {
   "cell_type": "code",
   "execution_count": 3,
   "metadata": {},
   "outputs": [],
   "source": [
    "df=df[df['Recipient'].isin([NOI])]"
   ]
  },
  {
   "cell_type": "code",
   "execution_count": 4,
   "metadata": {},
   "outputs": [],
   "source": [
    "tokens = nlp(''.join(str(df.Description.tolist())))"
   ]
  },
  {
   "cell_type": "code",
   "execution_count": 5,
   "metadata": {},
   "outputs": [],
   "source": [
    "gc = geonamescache.GeonamesCache()\n",
    "\n",
    "# gets nested dictionary for countries\n",
    "countries = gc.get_countries()\n",
    "\n",
    "# gets nested dictionary for cities\n",
    "cities = gc.get_cities()"
   ]
  },
  {
   "cell_type": "code",
   "execution_count": 6,
   "metadata": {},
   "outputs": [],
   "source": [
    "def gen_dict_extract(var, key):\n",
    "    if isinstance(var, dict):\n",
    "        for k, v in var.items():\n",
    "            if k == key:\n",
    "                yield v\n",
    "            if isinstance(v, (dict, list)):\n",
    "                yield from gen_dict_extract(v, key)\n",
    "    elif isinstance(var, list):\n",
    "        for d in var:\n",
    "            yield from gen_dict_extract(d, key)"
   ]
  },
  {
   "cell_type": "code",
   "execution_count": 7,
   "metadata": {},
   "outputs": [],
   "source": [
    "cities = [*gen_dict_extract(cities, 'name')]\n",
    "countries = [*gen_dict_extract(countries, 'name')]"
   ]
  },
  {
   "cell_type": "code",
   "execution_count": 8,
   "metadata": {},
   "outputs": [],
   "source": [
    "location_list = []\n",
    "for ent in tokens.ents:\n",
    "    if ent.label_ == 'GPE':\n",
    "        if ent.text in cities:\n",
    "            location_list.append(ent.text)\n",
    "        elif ent.text in countries:\n",
    "            pass\n",
    "        elif \"U.S.\" in ent.text:\n",
    "            pass\n",
    "        else:\n",
    "            location_list.append(ent.text)\n",
    "location_counts = Counter(location_list).most_common()\n",
    "df_location = pd.DataFrame(location_counts, columns =['location', 'count'])"
   ]
  },
  {
   "cell_type": "code",
   "execution_count": 9,
   "metadata": {},
   "outputs": [],
   "source": [
    "df_map = pd.DataFrame(columns=['location','count','lat','long'])\n",
    "#df_map = pd.DataFrame()\n",
    "#df_map"
   ]
  },
  {
   "cell_type": "code",
   "execution_count": 10,
   "metadata": {},
   "outputs": [
    {
     "data": {
      "text/html": [
       "<div>\n",
       "<style scoped>\n",
       "    .dataframe tbody tr th:only-of-type {\n",
       "        vertical-align: middle;\n",
       "    }\n",
       "\n",
       "    .dataframe tbody tr th {\n",
       "        vertical-align: top;\n",
       "    }\n",
       "\n",
       "    .dataframe thead th {\n",
       "        text-align: right;\n",
       "    }\n",
       "</style>\n",
       "<table border=\"1\" class=\"dataframe\">\n",
       "  <thead>\n",
       "    <tr style=\"text-align: right;\">\n",
       "      <th></th>\n",
       "      <th>location</th>\n",
       "      <th>count</th>\n",
       "      <th>lat</th>\n",
       "      <th>long</th>\n",
       "    </tr>\n",
       "  </thead>\n",
       "  <tbody>\n",
       "    <tr>\n",
       "      <th>0</th>\n",
       "      <td>Bangkok</td>\n",
       "      <td>20</td>\n",
       "      <td>13.752544</td>\n",
       "      <td>100.493473</td>\n",
       "    </tr>\n",
       "    <tr>\n",
       "      <th>1</th>\n",
       "      <td>Chaiyaphum Province</td>\n",
       "      <td>5</td>\n",
       "      <td>16.272035</td>\n",
       "      <td>101.715382</td>\n",
       "    </tr>\n",
       "    <tr>\n",
       "      <th>2</th>\n",
       "      <td>Phuket Island</td>\n",
       "      <td>4</td>\n",
       "      <td>7.741373</td>\n",
       "      <td>98.365467</td>\n",
       "    </tr>\n",
       "    <tr>\n",
       "      <th>3</th>\n",
       "      <td>Rayong</td>\n",
       "      <td>3</td>\n",
       "      <td>12.794372</td>\n",
       "      <td>101.370534</td>\n",
       "    </tr>\n",
       "    <tr>\n",
       "      <th>4</th>\n",
       "      <td>Chiang Mai</td>\n",
       "      <td>3</td>\n",
       "      <td>18.788278</td>\n",
       "      <td>98.985880</td>\n",
       "    </tr>\n",
       "    <tr>\n",
       "      <th>5</th>\n",
       "      <td>Songkhla</td>\n",
       "      <td>2</td>\n",
       "      <td>6.879022</td>\n",
       "      <td>100.549854</td>\n",
       "    </tr>\n",
       "    <tr>\n",
       "      <th>6</th>\n",
       "      <td>Phuket</td>\n",
       "      <td>2</td>\n",
       "      <td>7.936602</td>\n",
       "      <td>98.352929</td>\n",
       "    </tr>\n",
       "    <tr>\n",
       "      <th>7</th>\n",
       "      <td>the Kingdom of Thailand</td>\n",
       "      <td>1</td>\n",
       "      <td>8.142179</td>\n",
       "      <td>98.597901</td>\n",
       "    </tr>\n",
       "    <tr>\n",
       "      <th>8</th>\n",
       "      <td>Tokyo</td>\n",
       "      <td>1</td>\n",
       "      <td>7.848104</td>\n",
       "      <td>98.296390</td>\n",
       "    </tr>\n",
       "    <tr>\n",
       "      <th>9</th>\n",
       "      <td>开泰银行</td>\n",
       "      <td>1</td>\n",
       "      <td>13.286720</td>\n",
       "      <td>100.927069</td>\n",
       "    </tr>\n",
       "    <tr>\n",
       "      <th>10</th>\n",
       "      <td>Suphanburi</td>\n",
       "      <td>1</td>\n",
       "      <td>14.677700</td>\n",
       "      <td>100.035078</td>\n",
       "    </tr>\n",
       "    <tr>\n",
       "      <th>11</th>\n",
       "      <td>Mahasarakham Province</td>\n",
       "      <td>1</td>\n",
       "      <td>16.188095</td>\n",
       "      <td>103.298735</td>\n",
       "    </tr>\n",
       "    <tr>\n",
       "      <th>12</th>\n",
       "      <td>Songkhla Province</td>\n",
       "      <td>1</td>\n",
       "      <td>6.879022</td>\n",
       "      <td>100.549854</td>\n",
       "    </tr>\n",
       "  </tbody>\n",
       "</table>\n",
       "</div>"
      ],
      "text/plain": [
       "                   location  count        lat        long\n",
       "0                   Bangkok     20  13.752544  100.493473\n",
       "1       Chaiyaphum Province      5  16.272035  101.715382\n",
       "2             Phuket Island      4   7.741373   98.365467\n",
       "3                    Rayong      3  12.794372  101.370534\n",
       "4                Chiang Mai      3  18.788278   98.985880\n",
       "5                  Songkhla      2   6.879022  100.549854\n",
       "6                    Phuket      2   7.936602   98.352929\n",
       "7   the Kingdom of Thailand      1   8.142179   98.597901\n",
       "8                     Tokyo      1   7.848104   98.296390\n",
       "9                      开泰银行      1  13.286720  100.927069\n",
       "10               Suphanburi      1  14.677700  100.035078\n",
       "11    Mahasarakham Province      1  16.188095  103.298735\n",
       "12        Songkhla Province      1   6.879022  100.549854"
      ]
     },
     "execution_count": 10,
     "metadata": {},
     "output_type": "execute_result"
    }
   ],
   "source": [
    "for i, row in df_location.iterrows():\n",
    "    try:\n",
    "        lst = df_location.loc[i, :].values.flatten().tolist()\n",
    "        location = [ lst[0] ]\n",
    "        location_text = geolocator.geocode(location, country_codes=NOI_CC)    \n",
    "        lat = location_text.latitude\n",
    "        long = location_text.longitude\n",
    "        lst.append(lat)\n",
    "        lst.append(long)\n",
    "        #print(lst)\n",
    "        df_map.loc[len(df_map)] = lst     \n",
    "    except:\n",
    "        pass\n",
    "df_map  \n"
   ]
  },
  {
   "cell_type": "code",
   "execution_count": 11,
   "metadata": {},
   "outputs": [
    {
     "name": "stdout",
     "output_type": "stream",
     "text": [
      "Append\n"
     ]
    }
   ],
   "source": [
    "if os.path.isfile('heatmapper_all.csv'):\n",
    "    print(\"Append\")\n",
    "else:\n",
    "    with open('heatmapper_all.csv', 'a') as file:\n",
    "        file.write('location, count, lat, long\\n')    "
   ]
  },
  {
   "cell_type": "code",
   "execution_count": 12,
   "metadata": {},
   "outputs": [],
   "source": [
    "df_map.to_csv('%s-heatmapper.csv' %NOI_CC, header=True, index=False, mode='w')\n",
    "df_map.to_csv('heatmapper_all.csv', header=False, index=False, mode='a')"
   ]
  }
 ],
 "metadata": {
  "interpreter": {
   "hash": "b3ba2566441a7c06988d0923437866b63cedc61552a5af99d1f4fb67d367b25f"
  },
  "kernelspec": {
   "display_name": "Python 3",
   "language": "python",
   "name": "python3"
  },
  "language_info": {
   "codemirror_mode": {
    "name": "ipython",
    "version": 3
   },
   "file_extension": ".py",
   "mimetype": "text/x-python",
   "name": "python",
   "nbconvert_exporter": "python",
   "pygments_lexer": "ipython3",
   "version": "3.9.6"
  }
 },
 "nbformat": 4,
 "nbformat_minor": 2
}
